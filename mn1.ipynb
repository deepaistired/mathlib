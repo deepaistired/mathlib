{
 "cells": [
  {
   "cell_type": "code",
   "execution_count": null,
   "id": "fd0d4178-7880-4fe6-b865-977b6bf26c23",
   "metadata": {},
   "outputs": [],
   "source": []
  },
  {
   "cell_type": "code",
   "execution_count": null,
   "id": "8536ce38-cb7b-4fb7-bdc3-d12fa0e97574",
   "metadata": {},
   "outputs": [],
   "source": []
  },
  {
   "cell_type": "code",
   "execution_count": null,
   "id": "ce25c1a0-819e-49c7-8dd9-164d6b608581",
   "metadata": {},
   "outputs": [],
   "source": []
  },
  {
   "cell_type": "code",
   "execution_count": null,
   "id": "0a385baf-f89a-4a86-b328-247e8cc7abcc",
   "metadata": {},
   "outputs": [],
   "source": []
  },
  {
   "cell_type": "code",
   "execution_count": null,
   "id": "940a6fa7-0cb6-4ccc-9ac7-ba048975409b",
   "metadata": {},
   "outputs": [],
   "source": [
    "print(X_train.shape)\n"
   ]
  },
  {
   "cell_type": "code",
   "execution_count": 1,
   "id": "cc2e2089-c2c5-487b-8b30-b07ff80ba934",
   "metadata": {},
   "outputs": [
    {
     "name": "stderr",
     "output_type": "stream",
     "text": [
      "C:\\Users\\Deepa\\AppData\\Local\\Programs\\Python\\Python312\\Lib\\site-packages\\keras\\src\\layers\\core\\dense.py:87: UserWarning: Do not pass an `input_shape`/`input_dim` argument to a layer. When using Sequential models, prefer using an `Input(shape)` object as the first layer in the model instead.\n",
      "  super().__init__(activity_regularizer=activity_regularizer, **kwargs)\n"
     ]
    },
    {
     "name": "stdout",
     "output_type": "stream",
     "text": [
      "Epoch 1/10\n",
      "300/300 - 8s - 26ms/step - accuracy: 0.9229 - loss: 0.2735 - val_accuracy: 0.9574 - val_loss: 0.1400\n",
      "Epoch 2/10\n",
      "300/300 - 10s - 33ms/step - accuracy: 0.9683 - loss: 0.1107 - val_accuracy: 0.9712 - val_loss: 0.0921\n",
      "Epoch 3/10\n",
      "300/300 - 6s - 19ms/step - accuracy: 0.9788 - loss: 0.0710 - val_accuracy: 0.9756 - val_loss: 0.0816\n",
      "Epoch 4/10\n",
      "300/300 - 6s - 20ms/step - accuracy: 0.9853 - loss: 0.0512 - val_accuracy: 0.9779 - val_loss: 0.0683\n",
      "Epoch 5/10\n",
      "300/300 - 6s - 20ms/step - accuracy: 0.9891 - loss: 0.0372 - val_accuracy: 0.9777 - val_loss: 0.0685\n",
      "Epoch 6/10\n",
      "300/300 - 6s - 20ms/step - accuracy: 0.9925 - loss: 0.0273 - val_accuracy: 0.9808 - val_loss: 0.0613\n",
      "Epoch 7/10\n",
      "300/300 - 6s - 20ms/step - accuracy: 0.9952 - loss: 0.0197 - val_accuracy: 0.9802 - val_loss: 0.0620\n",
      "Epoch 8/10\n",
      "300/300 - 6s - 19ms/step - accuracy: 0.9960 - loss: 0.0159 - val_accuracy: 0.9803 - val_loss: 0.0649\n",
      "Epoch 9/10\n",
      "300/300 - 6s - 20ms/step - accuracy: 0.9976 - loss: 0.0112 - val_accuracy: 0.9811 - val_loss: 0.0604\n",
      "Epoch 10/10\n",
      "300/300 - 10s - 34ms/step - accuracy: 0.9984 - loss: 0.0086 - val_accuracy: 0.9806 - val_loss: 0.0635\n",
      "Baseline Error: 1.94%\n"
     ]
    }
   ],
   "source": [
    "import numpy as np\n",
    "from keras.datasets import mnist\n",
    "from keras.models import Sequential\n",
    "from keras.layers import Dense\n",
    "from tensorflow.keras.utils import to_categorical\n",
    "import matplotlib.pyplot as plt\n",
    "\n",
    "# Load dataset\n",
    "(X_train, y_train), (X_test, y_test) = mnist.load_data()\n",
    "\n",
    "# Preprocessing\n",
    "num_pixels = X_train.shape[1] * X_train.shape[2]\n",
    "X_train = X_train.reshape((X_train.shape[0], num_pixels)).astype('float32') / 255\n",
    "X_test = X_test.reshape((X_test.shape[0], num_pixels)).astype('float32') / 255\n",
    "\n",
    "y_train = to_categorical(y_train)\n",
    "y_test = to_categorical(y_test)\n",
    "num_classes = y_test.shape[1]\n",
    "\n",
    "# Build model\n",
    "model = Sequential()\n",
    "model.add(Dense(num_pixels, input_dim=num_pixels, activation='relu'))\n",
    "model.add(Dense(num_classes, activation='softmax'))\n",
    "\n",
    "# Compile model\n",
    "model.compile(loss='categorical_crossentropy', optimizer='adam', metrics=['accuracy'])\n",
    "\n",
    "# Train model\n",
    "model.fit(X_train, y_train, validation_data=(X_test, y_test), epochs=10, batch_size=200, verbose=2)\n",
    "\n",
    "# Evaluate model\n",
    "scores = model.evaluate(X_test, y_test, verbose=0)\n",
    "print(\"Baseline Error: %.2f%%\" % (100 - scores[1] * 100))\n",
    "\n",
    "\n",
    "\n"
   ]
  },
  {
   "cell_type": "code",
   "execution_count": 2,
   "id": "4a830efd-9613-4c77-88a2-171e8d5dd457",
   "metadata": {},
   "outputs": [
    {
     "name": "stdin",
     "output_type": "stream",
     "text": [
      "Enter an index number from 0 to 9999:  66\n"
     ]
    },
    {
     "name": "stdout",
     "output_type": "stream",
     "text": [
      "\u001b[1m1/1\u001b[0m \u001b[32m━━━━━━━━━━━━━━━━━━━━\u001b[0m\u001b[37m\u001b[0m \u001b[1m0s\u001b[0m 147ms/step\n"
     ]
    },
    {
     "data": {
      "image/png": "[encoded data removed]",
      "text/plain": [
       "<Figure size 640x480 with 1 Axes>"
      ]
     },
     "metadata": {},
     "output_type": "display_data"
    },
    {
     "name": "stdout",
     "output_type": "stream",
     "text": [
      "Predicted label for image at index 66: 6\n"
     ]
    }
   ],
   "source": [
    "# Prediction and visualization\n",
    "def predict_digit(index):\n",
    "    image = X_test[index]\n",
    "    image = image.reshape(1, 784)\n",
    "\n",
    "    prediction = model.predict(image)\n",
    "    predicted_class = np.argmax(prediction)\n",
    "\n",
    "    plt.imshow(image.reshape(28, 28), cmap='gray')\n",
    "    plt.title(f\"Predicted Number: {predicted_class}\")\n",
    "    plt.show()\n",
    "\n",
    "    return predicted_class\n",
    "\n",
    "# User input to test prediction\n",
    "index = int(input(f\"Enter an index number from 0 to {len(X_test) - 1}: \"))\n",
    "\n",
    "if 0 <= index < len(X_test):\n",
    "    predicted_label = predict_digit(index)\n",
    "    print(f\"Predicted label for image at index {index}: {predicted_label}\")\n",
    "else:\n",
    "    print(\"Invalid index. Please enter a valid index number.\")\n"
   ]
  },
  {
   "cell_type": "code",
   "execution_count": null,
   "id": "818ae493-130b-42cb-a394-d0aa18a129a3",
   "metadata": {},
   "outputs": [],
   "source": []
  }
 ],
 "metadata": {
  "kernelspec": {
   "display_name": "Python 3 (ipykernel)",
   "language": "python",
   "name": "python3"
  },
  "language_info": {
   "codemirror_mode": {
    "name": "ipython",
    "version": 3
   },
   "file_extension": ".py",
   "mimetype": "text/x-python",
   "name": "python",
   "nbconvert_exporter": "python",
   "pygments_lexer": "ipython3",
   "version": "3.12.6"
  }
 },
 "nbformat": 4,
 "nbformat_minor": 5
}
