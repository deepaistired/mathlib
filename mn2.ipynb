{
 "cells": [
  {
   "cell_type": "code",
   "execution_count": null,
   "id": "8824763a-cf90-4991-94aa-834d9a6356f0",
   "metadata": {},
   "outputs": [],
   "source": []
  },
  {
   "cell_type": "code",
   "execution_count": null,
   "id": "bb761f35-896c-4139-9cc5-a0b0f2680244",
   "metadata": {},
   "outputs": [],
   "source": []
  },
  {
   "cell_type": "code",
   "execution_count": null,
   "id": "f364e05c-927b-4bdf-a883-aeb6059db16d",
   "metadata": {},
   "outputs": [],
   "source": []
  },
  {
   "cell_type": "code",
   "execution_count": null,
   "id": "213aa1c8-f602-49f3-adac-256305a9f1cb",
   "metadata": {},
   "outputs": [],
   "source": []
  },
  {
   "cell_type": "code",
   "execution_count": null,
   "id": "217f613e-8ac1-4a54-8e9c-1d967e5c9fba",
   "metadata": {},
   "outputs": [],
   "source": []
  },
  {
   "cell_type": "code",
   "execution_count": null,
   "id": "e88ed824-65da-40df-ba81-bdc56aea6da5",
   "metadata": {},
   "outputs": [],
   "source": []
  },
  {
   "cell_type": "code",
   "execution_count": null,
   "id": "b99a9890-2121-40dd-bff2-d643642581cb",
   "metadata": {},
   "outputs": [],
   "source": []
  },
  {
   "cell_type": "code",
   "execution_count": null,
   "id": "56eae157-aae6-454c-862f-7c75499a178a",
   "metadata": {},
   "outputs": [],
   "source": []
  },
  {
   "cell_type": "code",
   "execution_count": null,
   "id": "65ec1858-39e0-4d00-a3e8-7bbd1378f99f",
   "metadata": {},
   "outputs": [],
   "source": []
  },
  {
   "cell_type": "code",
   "execution_count": null,
   "id": "bc026dc7-36ed-41fb-bca5-8152bb19d0b1",
   "metadata": {},
   "outputs": [],
   "source": []
  },
  {
   "cell_type": "code",
   "execution_count": null,
   "id": "4eb662bb-b20c-4948-894c-01abad4aac79",
   "metadata": {},
   "outputs": [],
   "source": []
  },
  {
   "cell_type": "code",
   "execution_count": null,
   "id": "95337e7a-96f9-4794-88b7-3dfcc0fd894a",
   "metadata": {},
   "outputs": [],
   "source": []
  },
  {
   "cell_type": "code",
   "execution_count": null,
   "id": "69c92da7-daf2-4337-af00-627ed53b1b05",
   "metadata": {},
   "outputs": [],
   "source": []
  },
  {
   "cell_type": "code",
   "execution_count": null,
   "id": "31c7930b-bac7-4398-9853-3afcb09103e3",
   "metadata": {},
   "outputs": [],
   "source": []
  },
  {
   "cell_type": "code",
   "execution_count": null,
   "id": "5035d0da-1cda-4b3f-8578-0231236b0443",
   "metadata": {},
   "outputs": [],
   "source": []
  },
  {
   "cell_type": "code",
   "execution_count": null,
   "id": "b7579a91-4bcf-4a45-9a90-c8d8cfd12c01",
   "metadata": {},
   "outputs": [],
   "source": []
  },
  {
   "cell_type": "code",
   "execution_count": null,
   "id": "97f7951c-fa61-40a1-bca6-29d0ad685306",
   "metadata": {},
   "outputs": [],
   "source": []
  },
  {
   "cell_type": "code",
   "execution_count": null,
   "id": "e149497f-17c9-4b95-9917-79a8a73519ed",
   "metadata": {},
   "outputs": [],
   "source": []
  },
  {
   "cell_type": "code",
   "execution_count": null,
   "id": "f9957cea-e699-42bb-b937-ab0757308f87",
   "metadata": {},
   "outputs": [],
   "source": []
  },
  {
   "cell_type": "code",
   "execution_count": null,
   "id": "dc045f5e-e2ac-420e-8366-f95f805c6778",
   "metadata": {},
   "outputs": [],
   "source": []
  },
  {
   "cell_type": "code",
   "execution_count": null,
   "id": "38f5701d-0634-427f-b070-f647d44d2e20",
   "metadata": {},
   "outputs": [],
   "source": []
  },
  {
   "cell_type": "code",
   "execution_count": null,
   "id": "c6f18e06-949f-4f5b-82f5-2418a7ce317d",
   "metadata": {},
   "outputs": [],
   "source": []
  },
  {
   "cell_type": "code",
   "execution_count": null,
   "id": "15ee8d34-88c8-42f8-a8b8-de09d8813462",
   "metadata": {},
   "outputs": [],
   "source": []
  },
  {
   "cell_type": "code",
   "execution_count": null,
   "id": "d5dab91f-ca39-4052-ba09-d1caf25719d7",
   "metadata": {},
   "outputs": [],
   "source": []
  },
  {
   "cell_type": "code",
   "execution_count": null,
   "id": "5258c6e1-ffa9-4f67-8aec-65fb28be6346",
   "metadata": {},
   "outputs": [],
   "source": []
  },
  {
   "cell_type": "code",
   "execution_count": null,
   "id": "0f54f49e-b60f-4d5b-8608-027260332518",
   "metadata": {},
   "outputs": [],
   "source": []
  },
  {
   "cell_type": "code",
   "execution_count": null,
   "id": "899e1f4b-0bf7-4aaf-be70-0351090c5f8d",
   "metadata": {},
   "outputs": [],
   "source": []
  },
  {
   "cell_type": "code",
   "execution_count": null,
   "id": "767bcaa0-b923-44f7-965d-f59eb10f2a7b",
   "metadata": {},
   "outputs": [],
   "source": []
  },
  {
   "cell_type": "code",
   "execution_count": null,
   "id": "ec73aee9-51ab-4136-a56c-a09c4bbf938e",
   "metadata": {},
   "outputs": [],
   "source": []
  },
  {
   "cell_type": "code",
   "execution_count": null,
   "id": "e68f466d-8e22-4532-a5a5-2822b5a2c28a",
   "metadata": {},
   "outputs": [],
   "source": []
  },
  {
   "cell_type": "code",
   "execution_count": null,
   "id": "0c42cd3f-bd2f-4dc5-b362-1af9b70dc42d",
   "metadata": {},
   "outputs": [],
   "source": []
  },
  {
   "cell_type": "code",
   "execution_count": null,
   "id": "ab856774-37cc-43cb-b88b-9ddd6ab5ac40",
   "metadata": {},
   "outputs": [],
   "source": []
  },
  {
   "cell_type": "code",
   "execution_count": null,
   "id": "e3d20dac-835a-4408-aab5-d7f690630e8d",
   "metadata": {},
   "outputs": [],
   "source": []
  },
  {
   "cell_type": "code",
   "execution_count": null,
   "id": "0137263d-5c7c-4654-93e2-5a1df94e1d04",
   "metadata": {},
   "outputs": [],
   "source": []
  },
  {
   "cell_type": "code",
   "execution_count": null,
   "id": "8ae31412-5029-4f45-902f-314fd14de220",
   "metadata": {},
   "outputs": [],
   "source": []
  },
  {
   "cell_type": "code",
   "execution_count": null,
   "id": "88ab7d6a-df8e-4096-a375-ebdf0ad4fbf6",
   "metadata": {},
   "outputs": [],
   "source": []
  },
  {
   "cell_type": "code",
   "execution_count": null,
   "id": "b2d81f82-73a6-4c67-9089-1754c664d96d",
   "metadata": {},
   "outputs": [],
   "source": []
  },
  {
   "cell_type": "code",
   "execution_count": 2,
   "id": "504be539-2cb2-4bed-b361-799c384fc156",
   "metadata": {},
   "outputs": [
    {
     "name": "stdout",
     "output_type": "stream",
     "text": [
      "Collecting extra-keras-datasets\n",
      "  Downloading extra_keras_datasets-1.2.0-py3-none-any.whl.metadata (982 bytes)\n",
      "Requirement already satisfied: numpy in c:\\users\\deepa\\appdata\\local\\programs\\python\\python312\\lib\\site-packages (from extra-keras-datasets) (1.26.4)\n",
      "Requirement already satisfied: scipy in c:\\users\\deepa\\appdata\\local\\programs\\python\\python312\\lib\\site-packages (from extra-keras-datasets) (1.14.1)\n",
      "Requirement already satisfied: pandas in c:\\users\\deepa\\appdata\\local\\programs\\python\\python312\\lib\\site-packages (from extra-keras-datasets) (2.2.1)\n",
      "Requirement already satisfied: scikit-learn in c:\\users\\deepa\\appdata\\local\\programs\\python\\python312\\lib\\site-packages (from extra-keras-datasets) (1.5.2)\n",
      "Requirement already satisfied: python-dateutil>=2.8.2 in c:\\users\\deepa\\appdata\\local\\programs\\python\\python312\\lib\\site-packages (from pandas->extra-keras-datasets) (2.9.0.post0)\n",
      "Requirement already satisfied: pytz>=2020.1 in c:\\users\\deepa\\appdata\\local\\programs\\python\\python312\\lib\\site-packages (from pandas->extra-keras-datasets) (2024.1)\n",
      "Requirement already satisfied: tzdata>=2022.7 in c:\\users\\deepa\\appdata\\local\\programs\\python\\python312\\lib\\site-packages (from pandas->extra-keras-datasets) (2024.1)\n",
      "Requirement already satisfied: joblib>=1.2.0 in c:\\users\\deepa\\appdata\\local\\programs\\python\\python312\\lib\\site-packages (from scikit-learn->extra-keras-datasets) (1.4.2)\n",
      "Requirement already satisfied: threadpoolctl>=3.1.0 in c:\\users\\deepa\\appdata\\local\\programs\\python\\python312\\lib\\site-packages (from scikit-learn->extra-keras-datasets) (3.5.0)\n",
      "Requirement already satisfied: six>=1.5 in c:\\users\\deepa\\appdata\\local\\programs\\python\\python312\\lib\\site-packages (from python-dateutil>=2.8.2->pandas->extra-keras-datasets) (1.16.0)\n",
      "Downloading extra_keras_datasets-1.2.0-py3-none-any.whl (12 kB)\n",
      "Installing collected packages: extra-keras-datasets\n",
      "Successfully installed extra-keras-datasets-1.2.0\n",
      "Note: you may need to restart the kernel to use updated packages.\n"
     ]
    },
    {
     "name": "stderr",
     "output_type": "stream",
     "text": [
      "\n",
      "[notice] A new release of pip is available: 24.2 -> 25.0.1\n",
      "[notice] To update, run: python.exe -m pip install --upgrade pip\n"
     ]
    }
   ],
   "source": [
    "pip install extra-keras-datasets\n"
   ]
  },
  {
   "cell_type": "code",
   "execution_count": 5,
   "id": "998ccb93-86e3-452c-9d7e-635127d55a1d",
   "metadata": {},
   "outputs": [
    {
     "name": "stdout",
     "output_type": "stream",
     "text": [
      "Collecting tensorflow-datasets\n",
      "  Downloading tensorflow_datasets-4.9.8-py3-none-any.whl.metadata (11 kB)\n",
      "Requirement already satisfied: absl-py in c:\\users\\deepa\\appdata\\local\\programs\\python\\python312\\lib\\site-packages (from tensorflow-datasets) (2.2.2)\n",
      "Collecting dm-tree (from tensorflow-datasets)\n",
      "  Downloading dm_tree-0.1.9-cp312-cp312-win_amd64.whl.metadata (2.5 kB)\n",
      "Collecting etils>=1.9.1 (from etils[edc,enp,epath,epy,etree]>=1.9.1; python_version >= \"3.11\"->tensorflow-datasets)\n",
      "  Downloading etils-1.12.2-py3-none-any.whl.metadata (6.5 kB)\n",
      "Collecting immutabledict (from tensorflow-datasets)\n",
      "  Downloading immutabledict-4.2.1-py3-none-any.whl.metadata (3.5 kB)\n",
      "Requirement already satisfied: numpy in c:\\users\\deepa\\appdata\\local\\programs\\python\\python312\\lib\\site-packages (from tensorflow-datasets) (1.26.4)\n",
      "Collecting promise (from tensorflow-datasets)\n",
      "  Downloading promise-2.3.tar.gz (19 kB)\n",
      "  Preparing metadata (setup.py): started\n",
      "  Preparing metadata (setup.py): finished with status 'done'\n",
      "Requirement already satisfied: protobuf>=3.20 in c:\\users\\deepa\\appdata\\local\\programs\\python\\python312\\lib\\site-packages (from tensorflow-datasets) (5.29.4)\n",
      "Requirement already satisfied: psutil in c:\\users\\deepa\\appdata\\local\\programs\\python\\python312\\lib\\site-packages (from tensorflow-datasets) (6.0.0)\n",
      "Collecting pyarrow (from tensorflow-datasets)\n",
      "  Downloading pyarrow-19.0.1-cp312-cp312-win_amd64.whl.metadata (3.4 kB)\n",
      "Requirement already satisfied: requests>=2.19.0 in c:\\users\\deepa\\appdata\\local\\programs\\python\\python312\\lib\\site-packages (from tensorflow-datasets) (2.32.3)\n",
      "Collecting simple_parsing (from tensorflow-datasets)\n",
      "  Downloading simple_parsing-0.1.7-py3-none-any.whl.metadata (7.3 kB)\n",
      "Collecting tensorflow-metadata (from tensorflow-datasets)\n",
      "  Downloading tensorflow_metadata-1.17.0-py3-none-any.whl.metadata (2.6 kB)\n",
      "Requirement already satisfied: termcolor in c:\\users\\deepa\\appdata\\local\\programs\\python\\python312\\lib\\site-packages (from tensorflow-datasets) (3.0.1)\n",
      "Collecting toml (from tensorflow-datasets)\n",
      "  Downloading toml-0.10.2-py2.py3-none-any.whl.metadata (7.1 kB)\n",
      "Collecting tqdm (from tensorflow-datasets)\n",
      "  Downloading tqdm-4.67.1-py3-none-any.whl.metadata (57 kB)\n",
      "Requirement already satisfied: wrapt in c:\\users\\deepa\\appdata\\local\\programs\\python\\python312\\lib\\site-packages (from tensorflow-datasets) (1.17.2)\n",
      "Collecting einops (from etils[edc,enp,epath,epy,etree]>=1.9.1; python_version >= \"3.11\"->tensorflow-datasets)\n",
      "  Downloading einops-0.8.1-py3-none-any.whl.metadata (13 kB)\n",
      "Collecting fsspec (from etils[edc,enp,epath,epy,etree]>=1.9.1; python_version >= \"3.11\"->tensorflow-datasets)\n",
      "  Downloading fsspec-2025.3.2-py3-none-any.whl.metadata (11 kB)\n",
      "Collecting importlib_resources (from etils[edc,enp,epath,epy,etree]>=1.9.1; python_version >= \"3.11\"->tensorflow-datasets)\n",
      "  Downloading importlib_resources-6.5.2-py3-none-any.whl.metadata (3.9 kB)\n",
      "Requirement already satisfied: typing_extensions in c:\\users\\deepa\\appdata\\local\\programs\\python\\python312\\lib\\site-packages (from etils[edc,enp,epath,epy,etree]>=1.9.1; python_version >= \"3.11\"->tensorflow-datasets) (4.13.1)\n",
      "Collecting zipp (from etils[edc,enp,epath,epy,etree]>=1.9.1; python_version >= \"3.11\"->tensorflow-datasets)\n",
      "  Downloading zipp-3.21.0-py3-none-any.whl.metadata (3.7 kB)\n",
      "Requirement already satisfied: charset-normalizer<4,>=2 in c:\\users\\deepa\\appdata\\local\\programs\\python\\python312\\lib\\site-packages (from requests>=2.19.0->tensorflow-datasets) (3.3.2)\n",
      "Requirement already satisfied: idna<4,>=2.5 in c:\\users\\deepa\\appdata\\local\\programs\\python\\python312\\lib\\site-packages (from requests>=2.19.0->tensorflow-datasets) (3.7)\n",
      "Requirement already satisfied: urllib3<3,>=1.21.1 in c:\\users\\deepa\\appdata\\local\\programs\\python\\python312\\lib\\site-packages (from requests>=2.19.0->tensorflow-datasets) (2.2.2)\n",
      "Requirement already satisfied: certifi>=2017.4.17 in c:\\users\\deepa\\appdata\\local\\programs\\python\\python312\\lib\\site-packages (from requests>=2.19.0->tensorflow-datasets) (2024.6.2)\n",
      "Requirement already satisfied: attrs>=18.2.0 in c:\\users\\deepa\\appdata\\local\\programs\\python\\python312\\lib\\site-packages (from dm-tree->tensorflow-datasets) (23.2.0)\n",
      "Requirement already satisfied: six in c:\\users\\deepa\\appdata\\local\\programs\\python\\python312\\lib\\site-packages (from promise->tensorflow-datasets) (1.16.0)\n",
      "Collecting docstring-parser<1.0,>=0.15 (from simple_parsing->tensorflow-datasets)\n",
      "  Downloading docstring_parser-0.16-py3-none-any.whl.metadata (3.0 kB)\n",
      "Collecting googleapis-common-protos<2,>=1.56.4 (from tensorflow-metadata->tensorflow-datasets)\n",
      "  Downloading googleapis_common_protos-1.69.2-py3-none-any.whl.metadata (9.3 kB)\n",
      "Requirement already satisfied: colorama in c:\\users\\deepa\\appdata\\local\\programs\\python\\python312\\lib\\site-packages (from tqdm->tensorflow-datasets) (0.4.6)\n",
      "Downloading tensorflow_datasets-4.9.8-py3-none-any.whl (5.3 MB)\n",
      "   ---------------------------------------- 0.0/5.3 MB ? eta -:--:--\n",
      "   ------------- -------------------------- 1.8/5.3 MB 9.1 MB/s eta 0:00:01\n",
      "   ----------------------- ---------------- 3.1/5.3 MB 7.7 MB/s eta 0:00:01\n",
      "   --------------------------------- ------ 4.5/5.3 MB 7.3 MB/s eta 0:00:01\n",
      "   ---------------------------------------- 5.3/5.3 MB 6.7 MB/s eta 0:00:00\n",
      "Downloading etils-1.12.2-py3-none-any.whl (167 kB)\n",
      "Downloading dm_tree-0.1.9-cp312-cp312-win_amd64.whl (102 kB)\n",
      "Downloading immutabledict-4.2.1-py3-none-any.whl (4.7 kB)\n",
      "Downloading pyarrow-19.0.1-cp312-cp312-win_amd64.whl (25.3 MB)\n",
      "   ---------------------------------------- 0.0/25.3 MB ? eta -:--:--\n",
      "   -- ------------------------------------- 1.6/25.3 MB 8.4 MB/s eta 0:00:03\n",
      "   ---- ----------------------------------- 3.1/25.3 MB 8.0 MB/s eta 0:00:03\n",
      "   ------- -------------------------------- 4.5/25.3 MB 7.3 MB/s eta 0:00:03\n",
      "   --------- ------------------------------ 6.0/25.3 MB 7.1 MB/s eta 0:00:03\n",
      "   ----------- ---------------------------- 7.1/25.3 MB 6.7 MB/s eta 0:00:03\n",
      "   ------------- -------------------------- 8.7/25.3 MB 6.9 MB/s eta 0:00:03\n",
      "   --------------- ------------------------ 10.0/25.3 MB 6.7 MB/s eta 0:00:03\n",
      "   ----------------- ---------------------- 11.3/25.3 MB 6.6 MB/s eta 0:00:03\n",
      "   -------------------- ------------------- 12.8/25.3 MB 6.7 MB/s eta 0:00:02\n",
      "   ---------------------- ----------------- 14.2/25.3 MB 6.6 MB/s eta 0:00:02\n",
      "   ------------------------ --------------- 15.5/25.3 MB 6.5 MB/s eta 0:00:02\n",
      "   -------------------------- ------------- 16.8/25.3 MB 6.6 MB/s eta 0:00:02\n",
      "   ---------------------------- ----------- 18.1/25.3 MB 6.5 MB/s eta 0:00:02\n",
      "   ------------------------------- -------- 19.7/25.3 MB 6.5 MB/s eta 0:00:01\n",
      "   --------------------------------- ------ 21.0/25.3 MB 6.5 MB/s eta 0:00:01\n",
      "   ----------------------------------- ---- 22.3/25.3 MB 6.5 MB/s eta 0:00:01\n",
      "   ------------------------------------- -- 23.6/25.3 MB 6.5 MB/s eta 0:00:01\n",
      "   ---------------------------------------  25.2/25.3 MB 6.5 MB/s eta 0:00:01\n",
      "   ---------------------------------------- 25.3/25.3 MB 6.4 MB/s eta 0:00:00\n",
      "Downloading simple_parsing-0.1.7-py3-none-any.whl (112 kB)\n",
      "Downloading tensorflow_metadata-1.17.0-py3-none-any.whl (29 kB)\n",
      "Downloading toml-0.10.2-py2.py3-none-any.whl (16 kB)\n",
      "Downloading tqdm-4.67.1-py3-none-any.whl (78 kB)\n",
      "Downloading docstring_parser-0.16-py3-none-any.whl (36 kB)\n",
      "Downloading googleapis_common_protos-1.69.2-py3-none-any.whl (293 kB)\n",
      "Downloading einops-0.8.1-py3-none-any.whl (64 kB)\n",
      "Downloading fsspec-2025.3.2-py3-none-any.whl (194 kB)\n",
      "Downloading importlib_resources-6.5.2-py3-none-any.whl (37 kB)\n",
      "Downloading zipp-3.21.0-py3-none-any.whl (9.6 kB)\n",
      "Building wheels for collected packages: promise\n",
      "  Building wheel for promise (setup.py): started\n",
      "  Building wheel for promise (setup.py): finished with status 'done'\n",
      "  Created wheel for promise: filename=promise-2.3-py3-none-any.whl size=21544 sha256=ba6a74235579405898585a462d98807b860033dc80b9035ae4f71fc5332f46b1\n",
      "  Stored in directory: c:\\users\\deepa\\appdata\\local\\pip\\cache\\wheels\\e7\\e6\\28\\864bdfee5339dbd6ddcb5a186286a8e217648ec198bdf0097d\n",
      "Successfully built promise\n",
      "Installing collected packages: zipp, tqdm, toml, pyarrow, promise, importlib_resources, immutabledict, googleapis-common-protos, fsspec, etils, einops, docstring-parser, dm-tree, tensorflow-metadata, simple_parsing, tensorflow-datasets\n",
      "Successfully installed dm-tree-0.1.9 docstring-parser-0.16 einops-0.8.1 etils-1.12.2 fsspec-2025.3.2 googleapis-common-protos-1.69.2 immutabledict-4.2.1 importlib_resources-6.5.2 promise-2.3 pyarrow-19.0.1 simple_parsing-0.1.7 tensorflow-datasets-4.9.8 tensorflow-metadata-1.17.0 toml-0.10.2 tqdm-4.67.1 zipp-3.21.0\n",
      "Note: you may need to restart the kernel to use updated packages.\n"
     ]
    },
    {
     "name": "stderr",
     "output_type": "stream",
     "text": [
      "\n",
      "[notice] A new release of pip is available: 24.2 -> 25.0.1\n",
      "[notice] To update, run: python.exe -m pip install --upgrade pip\n"
     ]
    }
   ],
   "source": [
    "pip install tensorflow-datasets\n"
   ]
  },
  {
   "cell_type": "code",
   "execution_count": 6,
   "id": "16cac41c-5c58-4fe6-bf47-996615477dca",
   "metadata": {},
   "outputs": [
    {
     "name": "stderr",
     "output_type": "stream",
     "text": [
      "WARNING:absl:Variant folder C:\\Users\\Deepa\\tensorflow_datasets\\emnist\\letters\\3.1.0 has no dataset_info.json\n",
      "INFO:absl:Generating dataset emnist (C:\\Users\\Deepa\\tensorflow_datasets\\emnist\\letters\\3.1.0)\n"
     ]
    },
    {
     "name": "stdout",
     "output_type": "stream",
     "text": [
      "\u001b[1mDownloading and preparing dataset Unknown size (download: Unknown size, generated: Unknown size, total: Unknown size) to C:\\Users\\Deepa\\tensorflow_datasets\\emnist\\letters\\3.1.0...\u001b[0m\n"
     ]
    },
    {
     "data": {
      "application/vnd.jupyter.widget-view+json": {
       "model_id": "90bf8b1c5ee94abda7859c023e373771",
       "version_major": 2,
       "version_minor": 0
      },
      "text/plain": [
       "Dl Completed...: 0 url [00:00, ? url/s]"
      ]
     },
     "metadata": {},
     "output_type": "display_data"
    },
    {
     "data": {
      "application/vnd.jupyter.widget-view+json": {
       "model_id": "ff532567423142118c03327a53f95df2",
       "version_major": 2,
       "version_minor": 0
      },
      "text/plain": [
       "Dl Size...: 0 MiB [00:00, ? MiB/s]"
      ]
     },
     "metadata": {},
     "output_type": "display_data"
    },
    {
     "data": {
      "application/vnd.jupyter.widget-view+json": {
       "model_id": "55bee90e236a4ee184b52ce2c8e1ce22",
       "version_major": 2,
       "version_minor": 0
      },
      "text/plain": [
       "Extraction completed...: 0 file [00:00, ? file/s]"
      ]
     },
     "metadata": {},
     "output_type": "display_data"
    },
    {
     "name": "stderr",
     "output_type": "stream",
     "text": [
      "INFO:absl:Downloading https://biometrics.nist.gov/cs_links/EMNIST/gzip.zip into C:\\Users\\Deepa\\tensorflow_datasets\\downloads\\emnist\\biometrics.nist.gov_cs_links_EMNIST_gzipggz9phjI2Qk7f_iLO6IIzIOZdZRPpnH3k41orh0yFZo.zip.tmp.323be40b709e43c0a950fad4262a8d04...\n"
     ]
    },
    {
     "data": {
      "application/vnd.jupyter.widget-view+json": {
       "model_id": "92846b9426b847a5a0e04046353667b6",
       "version_major": 2,
       "version_minor": 0
      },
      "text/plain": [
       "Extraction completed...: 0 file [00:00, ? file/s]"
      ]
     },
     "metadata": {},
     "output_type": "display_data"
    },
    {
     "data": {
      "application/vnd.jupyter.widget-view+json": {
       "model_id": "",
       "version_major": 2,
       "version_minor": 0
      },
      "text/plain": [
       "Generating splits...:   0%|          | 0/2 [00:00<?, ? splits/s]"
      ]
     },
     "metadata": {},
     "output_type": "display_data"
    },
    {
     "data": {
      "application/vnd.jupyter.widget-view+json": {
       "model_id": "",
       "version_major": 2,
       "version_minor": 0
      },
      "text/plain": [
       "Generating train examples...: 0 examples [00:00, ? examples/s]"
      ]
     },
     "metadata": {},
     "output_type": "display_data"
    },
    {
     "data": {
      "application/vnd.jupyter.widget-view+json": {
       "model_id": "",
       "version_major": 2,
       "version_minor": 0
      },
      "text/plain": [
       "Shuffling C:\\Users\\Deepa\\tensorflow_datasets\\emnist\\letters\\incomplete.A91ZQ8_3.1.0\\emnist-train.tfrecord*...:…"
      ]
     },
     "metadata": {},
     "output_type": "display_data"
    },
    {
     "name": "stderr",
     "output_type": "stream",
     "text": [
      "INFO:absl:Done writing C:\\Users\\Deepa\\tensorflow_datasets\\emnist\\letters\\incomplete.A91ZQ8_3.1.0\\emnist-train.tfrecord*. Number of examples: 88800 (shards: [88800])\n"
     ]
    },
    {
     "data": {
      "application/vnd.jupyter.widget-view+json": {
       "model_id": "",
       "version_major": 2,
       "version_minor": 0
      },
      "text/plain": [
       "Generating test examples...: 0 examples [00:00, ? examples/s]"
      ]
     },
     "metadata": {},
     "output_type": "display_data"
    },
    {
     "data": {
      "application/vnd.jupyter.widget-view+json": {
       "model_id": "",
       "version_major": 2,
       "version_minor": 0
      },
      "text/plain": [
       "Shuffling C:\\Users\\Deepa\\tensorflow_datasets\\emnist\\letters\\incomplete.A91ZQ8_3.1.0\\emnist-test.tfrecord*...: …"
      ]
     },
     "metadata": {},
     "output_type": "display_data"
    },
    {
     "name": "stderr",
     "output_type": "stream",
     "text": [
      "INFO:absl:Done writing C:\\Users\\Deepa\\tensorflow_datasets\\emnist\\letters\\incomplete.A91ZQ8_3.1.0\\emnist-test.tfrecord*. Number of examples: 14800 (shards: [14800])\n",
      "INFO:absl:Creating a tf.data.Dataset reading 1 files located in folders: C:\\Users\\Deepa\\tensorflow_datasets\\emnist\\letters\\3.1.0.\n",
      "INFO:absl:Creating a tf.data.Dataset reading 1 files located in folders: C:\\Users\\Deepa\\tensorflow_datasets\\emnist\\letters\\3.1.0.\n"
     ]
    },
    {
     "name": "stdout",
     "output_type": "stream",
     "text": [
      "\u001b[1mDataset emnist downloaded and prepared to C:\\Users\\Deepa\\tensorflow_datasets\\emnist\\letters\\3.1.0. Subsequent calls will reuse this data.\u001b[0m\n"
     ]
    },
    {
     "name": "stderr",
     "output_type": "stream",
     "text": [
      "INFO:absl:Constructing tf.data.Dataset emnist for split ['train', 'test'], from C:\\Users\\Deepa\\tensorflow_datasets\\emnist\\letters\\3.1.0\n"
     ]
    },
    {
     "name": "stdout",
     "output_type": "stream",
     "text": [
      "Epoch 1/10\n"
     ]
    },
    {
     "name": "stderr",
     "output_type": "stream",
     "text": [
      "C:\\Users\\Deepa\\AppData\\Local\\Programs\\Python\\Python312\\Lib\\site-packages\\keras\\src\\layers\\reshaping\\reshape.py:39: UserWarning: Do not pass an `input_shape`/`input_dim` argument to a layer. When using Sequential models, prefer using an `Input(shape)` object as the first layer in the model instead.\n",
      "  super().__init__(**kwargs)\n"
     ]
    },
    {
     "name": "stdout",
     "output_type": "stream",
     "text": [
      "\u001b[1m444/444\u001b[0m \u001b[32m━━━━━━━━━━━━━━━━━━━━\u001b[0m\u001b[37m\u001b[0m \u001b[1m41s\u001b[0m 85ms/step - accuracy: 0.5285 - loss: 1.6136 - val_accuracy: 0.8651 - val_loss: 0.4183\n",
      "Epoch 2/10\n",
      "\u001b[1m444/444\u001b[0m \u001b[32m━━━━━━━━━━━━━━━━━━━━\u001b[0m\u001b[37m\u001b[0m \u001b[1m36s\u001b[0m 82ms/step - accuracy: 0.8267 - loss: 0.5447 - val_accuracy: 0.8930 - val_loss: 0.3311\n",
      "Epoch 3/10\n",
      "\u001b[1m444/444\u001b[0m \u001b[32m━━━━━━━━━━━━━━━━━━━━\u001b[0m\u001b[37m\u001b[0m \u001b[1m37s\u001b[0m 82ms/step - accuracy: 0.8622 - loss: 0.4344 - val_accuracy: 0.9022 - val_loss: 0.2932\n",
      "Epoch 4/10\n",
      "\u001b[1m444/444\u001b[0m \u001b[32m━━━━━━━━━━━━━━━━━━━━\u001b[0m\u001b[37m\u001b[0m \u001b[1m36s\u001b[0m 81ms/step - accuracy: 0.8794 - loss: 0.3774 - val_accuracy: 0.9065 - val_loss: 0.2804\n",
      "Epoch 5/10\n",
      "\u001b[1m444/444\u001b[0m \u001b[32m━━━━━━━━━━━━━━━━━━━━\u001b[0m\u001b[37m\u001b[0m \u001b[1m36s\u001b[0m 82ms/step - accuracy: 0.8892 - loss: 0.3428 - val_accuracy: 0.9122 - val_loss: 0.2657\n",
      "Epoch 6/10\n",
      "\u001b[1m444/444\u001b[0m \u001b[32m━━━━━━━━━━━━━━━━━━━━\u001b[0m\u001b[37m\u001b[0m \u001b[1m37s\u001b[0m 82ms/step - accuracy: 0.8961 - loss: 0.3224 - val_accuracy: 0.9161 - val_loss: 0.2514\n",
      "Epoch 7/10\n",
      "\u001b[1m444/444\u001b[0m \u001b[32m━━━━━━━━━━━━━━━━━━━━\u001b[0m\u001b[37m\u001b[0m \u001b[1m36s\u001b[0m 81ms/step - accuracy: 0.9015 - loss: 0.2980 - val_accuracy: 0.9180 - val_loss: 0.2432\n",
      "Epoch 8/10\n",
      "\u001b[1m444/444\u001b[0m \u001b[32m━━━━━━━━━━━━━━━━━━━━\u001b[0m\u001b[37m\u001b[0m \u001b[1m36s\u001b[0m 82ms/step - accuracy: 0.9062 - loss: 0.2837 - val_accuracy: 0.9187 - val_loss: 0.2413\n",
      "Epoch 9/10\n",
      "\u001b[1m444/444\u001b[0m \u001b[32m━━━━━━━━━━━━━━━━━━━━\u001b[0m\u001b[37m\u001b[0m \u001b[1m35s\u001b[0m 80ms/step - accuracy: 0.9130 - loss: 0.2626 - val_accuracy: 0.9223 - val_loss: 0.2329\n",
      "Epoch 10/10\n",
      "\u001b[1m444/444\u001b[0m \u001b[32m━━━━━━━━━━━━━━━━━━━━\u001b[0m\u001b[37m\u001b[0m \u001b[1m36s\u001b[0m 82ms/step - accuracy: 0.9158 - loss: 0.2536 - val_accuracy: 0.9208 - val_loss: 0.2344\n",
      "\u001b[1m1/1\u001b[0m \u001b[32m━━━━━━━━━━━━━━━━━━━━\u001b[0m\u001b[37m\u001b[0m \u001b[1m0s\u001b[0m 240ms/step\n"
     ]
    },
    {
     "data": {
      "image/png": "[encoded data removed]",
      "text/plain": [
       "<Figure size 640x480 with 1 Axes>"
      ]
     },
     "metadata": {},
     "output_type": "display_data"
    }
   ],
   "source": [
    "import tensorflow as tf\n",
    "import tensorflow_datasets as tfds\n",
    "import numpy as np\n",
    "import matplotlib.pyplot as plt\n",
    "\n",
    "# Load EMNIST (letters split)\n",
    "(ds_train, ds_test), ds_info = tfds.load(\n",
    "    'emnist/letters',\n",
    "    split=['train', 'test'],\n",
    "    shuffle_files=True,\n",
    "    as_supervised=True,\n",
    "    with_info=True,\n",
    ")\n",
    "\n",
    "# Preprocess the data\n",
    "def preprocess(image, label):\n",
    "    image = tf.cast(image, tf.float32) / 255.0\n",
    "    label = label - 1  # labels are 1-26, convert to 0-25\n",
    "    return image, label\n",
    "\n",
    "ds_train = ds_train.map(preprocess).batch(200).prefetch(1)\n",
    "ds_test = ds_test.map(preprocess).batch(200).prefetch(1)\n",
    "\n",
    "# Build model\n",
    "model = tf.keras.Sequential([\n",
    "    tf.keras.layers.Reshape((28, 28, 1), input_shape=(28, 28)),\n",
    "    tf.keras.layers.Conv2D(32, (3, 3), activation='relu'),\n",
    "    tf.keras.layers.MaxPooling2D((2, 2)),\n",
    "    tf.keras.layers.Conv2D(64, (3, 3), activation='relu'),\n",
    "    tf.keras.layers.MaxPooling2D((2, 2)),\n",
    "    tf.keras.layers.Flatten(),\n",
    "    tf.keras.layers.Dense(128, activation='relu'),\n",
    "    tf.keras.layers.Dropout(0.5),\n",
    "    tf.keras.layers.Dense(26, activation='softmax')\n",
    "])\n",
    "\n",
    "# Compile model\n",
    "model.compile(optimizer='adam',\n",
    "              loss='sparse_categorical_crossentropy',\n",
    "              metrics=['accuracy'])\n",
    "\n",
    "# Train model\n",
    "model.fit(ds_train, validation_data=ds_test, epochs=10)\n",
    "\n",
    "# Prediction visualization\n",
    "for image, label in ds_test.take(1):\n",
    "    img = image[0].numpy()\n",
    "    pred = model.predict(tf.expand_dims(img, axis=0))\n",
    "    pred_class = np.argmax(pred)\n",
    "\n",
    "    plt.imshow(img, cmap='gray')\n",
    "    plt.title(f\"Predicted: {chr(pred_class + ord('A'))}\")\n",
    "    plt.show()\n"
   ]
  },
  {
   "cell_type": "code",
   "execution_count": null,
   "id": "dcae99fa-5139-4dc6-8e6b-b6dc3b01f796",
   "metadata": {},
   "outputs": [],
   "source": []
  }
 ],
 "metadata": {
  "kernelspec": {
   "display_name": "Python 3 (ipykernel)",
   "language": "python",
   "name": "python3"
  },
  "language_info": {
   "codemirror_mode": {
    "name": "ipython",
    "version": 3
   },
   "file_extension": ".py",
   "mimetype": "text/x-python",
   "name": "python",
   "nbconvert_exporter": "python",
   "pygments_lexer": "ipython3",
   "version": "3.12.6"
  }
 },
 "nbformat": 4,
 "nbformat_minor": 5
}
