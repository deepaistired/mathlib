{
 "cells": [
  {
   "cell_type": "code",
   "execution_count": 32,
   "id": "e948079e-327a-495b-9e86-aec4a4cf5a11",
   "metadata": {},
   "outputs": [],
   "source": [
    "\n",
    "\n",
    "    "
   ]
  },
  {
   "cell_type": "code",
   "execution_count": null,
   "id": "4da32f13-e412-4de5-8745-a22ecffc7f47",
   "metadata": {},
   "outputs": [],
   "source": []
  },
  {
   "cell_type": "code",
   "execution_count": null,
   "id": "92d1fe11-9868-4263-adc8-c3786ccc2e49",
   "metadata": {},
   "outputs": [],
   "source": []
  },
  {
   "cell_type": "code",
   "execution_count": null,
   "id": "de007a63-4209-4499-ad65-ada51a8a985b",
   "metadata": {},
   "outputs": [],
   "source": []
  },
  {
   "cell_type": "code",
   "execution_count": null,
   "id": "8eeaaed9-720e-4ccb-a8ce-13f07aaba75d",
   "metadata": {},
   "outputs": [],
   "source": []
  },
  {
   "cell_type": "code",
   "execution_count": null,
   "id": "ec9c6b02-90a5-4718-ba6b-c488fb0422bd",
   "metadata": {},
   "outputs": [],
   "source": []
  },
  {
   "cell_type": "code",
   "execution_count": null,
   "id": "622932ce-5d64-4fa7-8dce-81e72dde60bc",
   "metadata": {},
   "outputs": [],
   "source": []
  },
  {
   "cell_type": "code",
   "execution_count": null,
   "id": "0ee3a5c4-d064-46b7-a7a4-6ea26410a2db",
   "metadata": {},
   "outputs": [],
   "source": []
  },
  {
   "cell_type": "code",
   "execution_count": null,
   "id": "2fd927a3-ff4b-4414-b4fa-ff80792a5727",
   "metadata": {},
   "outputs": [],
   "source": []
  },
  {
   "cell_type": "code",
   "execution_count": null,
   "id": "76134325-9abe-4b67-aa61-6b0498a279ac",
   "metadata": {},
   "outputs": [],
   "source": []
  },
  {
   "cell_type": "code",
   "execution_count": null,
   "id": "340b3bbb-e85c-4f9d-aa3f-fe4abe5fb16a",
   "metadata": {},
   "outputs": [],
   "source": []
  },
  {
   "cell_type": "code",
   "execution_count": null,
   "id": "43139e73-c6d4-4c2f-b90e-f14445a42dda",
   "metadata": {},
   "outputs": [],
   "source": []
  },
  {
   "cell_type": "code",
   "execution_count": null,
   "id": "fdf4262c-a45b-4016-855a-c15247330fca",
   "metadata": {},
   "outputs": [],
   "source": []
  },
  {
   "cell_type": "code",
   "execution_count": null,
   "id": "4b1e5a75-543d-444b-af81-fc8c44346b47",
   "metadata": {},
   "outputs": [],
   "source": []
  },
  {
   "cell_type": "code",
   "execution_count": null,
   "id": "785a6069-18ea-4c6a-8ac6-a67664f0540d",
   "metadata": {},
   "outputs": [],
   "source": []
  },
  {
   "cell_type": "code",
   "execution_count": null,
   "id": "d6907cc0-f66f-450c-b4a8-a636a4e7c8af",
   "metadata": {},
   "outputs": [],
   "source": []
  },
  {
   "cell_type": "code",
   "execution_count": null,
   "id": "e9e7b3d5-faee-4453-afbf-d9e40d8dd204",
   "metadata": {},
   "outputs": [],
   "source": []
  },
  {
   "cell_type": "code",
   "execution_count": null,
   "id": "3edbf5e7-0393-4809-b56e-a324e3094f4f",
   "metadata": {},
   "outputs": [],
   "source": []
  },
  {
   "cell_type": "code",
   "execution_count": null,
   "id": "ef8bd2b3-274d-47c1-828b-d855853e11d5",
   "metadata": {},
   "outputs": [],
   "source": []
  },
  {
   "cell_type": "code",
   "execution_count": null,
   "id": "ca548599-da5c-4899-870e-ff4952db0f31",
   "metadata": {},
   "outputs": [],
   "source": []
  },
  {
   "cell_type": "code",
   "execution_count": null,
   "id": "93020478-7003-45b9-bfc3-9a268463eb0b",
   "metadata": {},
   "outputs": [],
   "source": []
  },
  {
   "cell_type": "code",
   "execution_count": null,
   "id": "fa6cb2cc-a6e3-403f-84bd-af6f93b9fd9a",
   "metadata": {},
   "outputs": [],
   "source": []
  },
  {
   "cell_type": "code",
   "execution_count": null,
   "id": "6a0fa140-5cb0-4b16-969e-d560b3c879fb",
   "metadata": {},
   "outputs": [],
   "source": []
  },
  {
   "cell_type": "code",
   "execution_count": null,
   "id": "42da7404-4961-4070-8e39-1b67da2e91b9",
   "metadata": {},
   "outputs": [],
   "source": []
  },
  {
   "cell_type": "code",
   "execution_count": null,
   "id": "9c506f6c-5332-4e5e-8fd6-375316f948a9",
   "metadata": {},
   "outputs": [],
   "source": []
  },
  {
   "cell_type": "code",
   "execution_count": null,
   "id": "af8276d3-2edf-47d0-bd6f-352de654168f",
   "metadata": {},
   "outputs": [],
   "source": []
  },
  {
   "cell_type": "code",
   "execution_count": null,
   "id": "2225edab-493f-4b69-9863-fb6e87adb6a4",
   "metadata": {},
   "outputs": [],
   "source": []
  },
  {
   "cell_type": "code",
   "execution_count": null,
   "id": "ca88f87c-674b-424e-baae-94f1e9690ae2",
   "metadata": {},
   "outputs": [],
   "source": []
  },
  {
   "cell_type": "code",
   "execution_count": null,
   "id": "26dd205d-bab8-4de0-b497-501ba5ade10b",
   "metadata": {},
   "outputs": [],
   "source": []
  },
  {
   "cell_type": "code",
   "execution_count": null,
   "id": "4f683d26-1e8c-4feb-ad9d-be512f0856ae",
   "metadata": {},
   "outputs": [],
   "source": []
  },
  {
   "cell_type": "code",
   "execution_count": null,
   "id": "6270417c-7f25-4f73-bc43-18581e435e23",
   "metadata": {},
   "outputs": [],
   "source": []
  },
  {
   "cell_type": "code",
   "execution_count": 33,
   "id": "95380b00-8bab-49ae-8bd0-b61ec29387c5",
   "metadata": {},
   "outputs": [],
   "source": [
    "\n",
    "#perceptron with step wise activation function\n",
    "\n",
    "def predict(rows,weights):\n",
    "    activation=weights[0]\n",
    "    for i in range (len(rows)-1):\n",
    "        activation+=weights[i+1]*rows[i]\n",
    "    return 1.0 if activation >= 0.0 else 0.0\n",
    "    \n",
    "def train_weights(train,l_rate,t_epoch):\n",
    "    weights=[0.0 for _ in range(len(train[0]))] #initilaise everything to zero\n",
    "    for epoch in range( t_epoch):\n",
    "        sum_error=0.0\n",
    "        for row in train:\n",
    "            prediction=predict(row,weights)\n",
    "            error=row[-1]-prediction\n",
    "            sum_error+=error**2\n",
    "            weights[0]+=l_rate*error\n",
    "            for i in range(len(row)-1):\n",
    "                weights[i+1]+=l_rate*error*row[i]\n",
    "        print(f'>epoch={epoch},l_rate={l_rate:.3f},error={sum_error:.3f}')\n",
    "    return weights\n"
   ]
  },
  {
   "cell_type": "code",
   "execution_count": 34,
   "id": "8bca6831-e69f-4ac5-a6ed-7e3c7251bf93",
   "metadata": {},
   "outputs": [
    {
     "name": "stdout",
     "output_type": "stream",
     "text": [
      ">epoch=0,l_rate=0.100,error=2.000\n",
      ">epoch=1,l_rate=0.100,error=1.000\n",
      ">epoch=2,l_rate=0.100,error=0.000\n",
      ">epoch=3,l_rate=0.100,error=0.000\n",
      ">epoch=4,l_rate=0.100,error=0.000\n",
      "final weights=[-0.1, 0.20653640140000007, -0.23418117710000003]\n",
      "expected=0,Predicted=0\n",
      "expected=0,Predicted=0\n",
      "expected=0,Predicted=0\n",
      "expected=0,Predicted=0\n",
      "expected=0,Predicted=0\n",
      "expected=1,Predicted=1\n",
      "expected=1,Predicted=1\n",
      "expected=1,Predicted=1\n",
      "expected=1,Predicted=1\n",
      "expected=1,Predicted=1\n"
     ]
    }
   ],
   "source": [
    "dataset = [\n",
    "    [2.7810836, 2.550537003, 0],\n",
    "    [1.465489372, 2.362125076, 0],\n",
    "    [3.396561688, 4.400293529, 0],\n",
    "    [1.38807019, 1.850220317, 0],\n",
    "    [3.06407232, 3.005305973, 0],\n",
    "    [7.627531214, 2.759262235, 1],\n",
    "    [5.332441248, 2.088626775, 1],\n",
    "    [6.922596716, 1.77106367, 1],\n",
    "    [8.675418651, -0.242068655, 1],\n",
    "    [7.673756466, 3.508563011, 1]\n",
    "]\n",
    "learning_rate=0.1\n",
    "epochs=5\n",
    "\n",
    "weights=train_weights(dataset,learning_rate,epochs)\n",
    "print(f'final weights={weights}')\n",
    "\n",
    "#test prediction\n",
    "for row in dataset:\n",
    "    prediction = predict(row,weights)\n",
    "    print(f'expected={int(row[-1])},Predicted={int(prediction)}')\n",
    "    \n"
   ]
  },
  {
   "cell_type": "code",
   "execution_count": 42,
   "id": "550f1d20-9a61-4620-9a4c-26c596f9710e",
   "metadata": {},
   "outputs": [],
   "source": [
    "#sigmoid function\n",
    "import math\n",
    "\n",
    "def predict(row, weights):\n",
    "    activation = weights[0]\n",
    "    for i in range(len(row) - 1):\n",
    "        activation += weights[i + 1] * row[i]\n",
    "    activation = 1 / (1 + math.exp(-activation))  # sigmoid applied once after loop\n",
    "    return 1.0 if activation >= 0.5 else 0.0"
   ]
  },
  {
   "cell_type": "code",
   "execution_count": 43,
   "id": "f0f7c09d-4a22-4f27-9334-e5d2ae2d2c17",
   "metadata": {},
   "outputs": [
    {
     "name": "stdout",
     "output_type": "stream",
     "text": [
      ">epoch=0,l_rate=0.100,error=2.000\n",
      ">epoch=1,l_rate=0.100,error=1.000\n",
      ">epoch=2,l_rate=0.100,error=0.000\n",
      ">epoch=3,l_rate=0.100,error=0.000\n",
      ">epoch=4,l_rate=0.100,error=0.000\n",
      "final weights=[-0.1, 0.20653640140000007, -0.23418117710000003]\n",
      "expected=0,Predicted=0\n",
      "expected=0,Predicted=0\n",
      "expected=0,Predicted=0\n",
      "expected=0,Predicted=0\n",
      "expected=0,Predicted=0\n",
      "expected=1,Predicted=1\n",
      "expected=1,Predicted=1\n",
      "expected=1,Predicted=1\n",
      "expected=1,Predicted=1\n",
      "expected=1,Predicted=1\n"
     ]
    }
   ],
   "source": [
    "def train_weights(train,l_rate,t_epoch):\n",
    "    weights=[0.0 for _ in range(len(train[0]))] #initilaise everything to zero\n",
    "    for epoch in range( t_epoch):\n",
    "        sum_error=0.0\n",
    "        for row in train:\n",
    "            prediction=predict(row,weights)\n",
    "            error=row[-1]-prediction\n",
    "            sum_error+=error**2\n",
    "            weights[0]+=l_rate*error\n",
    "            for i in range(len(row)-1):\n",
    "                weights[i+1]+=l_rate*error*row[i]\n",
    "        print(f'>epoch={epoch},l_rate={l_rate:.3f},error={sum_error:.3f}')\n",
    "    return weights\n",
    "\n",
    "dataset = [\n",
    "    [2.7810836, 2.550537003, 0],\n",
    "    [1.465489372, 2.362125076, 0],\n",
    "    [3.396561688, 4.400293529, 0],\n",
    "    [1.38807019, 1.850220317, 0],\n",
    "    [3.06407232, 3.005305973, 0],\n",
    "    [7.627531214, 2.759262235, 1],\n",
    "    [5.332441248, 2.088626775, 1],\n",
    "    [6.922596716, 1.77106367, 1],\n",
    "    [8.675418651, -0.242068655, 1],\n",
    "    [7.673756466, 3.508563011, 1]\n",
    "]\n",
    "learning_rate=0.1\n",
    "epochs=5\n",
    "\n",
    "weights=train_weights(dataset,learning_rate,epochs)\n",
    "print(f'final weights={weights}')\n",
    "\n",
    "#test prediction\n",
    "for row in dataset:\n",
    "    prediction = predict(row,weights)\n",
    "    print(f'expected={int(row[-1])},Predicted={int(prediction)}')\n",
    "    "
   ]
  },
  {
   "cell_type": "code",
   "execution_count": 44,
   "id": "83d67345-abad-4fe5-ba6e-9689e8074a55",
   "metadata": {},
   "outputs": [
    {
     "name": "stdout",
     "output_type": "stream",
     "text": [
      "Expected=0, Predicted=1\n",
      "Expected=0, Predicted=1\n",
      "Expected=0, Predicted=1\n",
      "Expected=1, Predicted=1\n"
     ]
    }
   ],
   "source": [
    "\n",
    "#for and dataset\n",
    "import math\n",
    "\n",
    "def predict(row, weights):\n",
    "    activation = weights[0]\n",
    "    for i in range(len(row) - 1):\n",
    "        activation += weights[i + 1] * row[i]\n",
    "    activation = math.tanh(activation)  # tanh activation\n",
    "    return 1.0 if activation >= 0.0 else 0.0  # threshold at 0\n",
    "\n",
    "# Test dataset\n",
    "dataset = [\n",
    "    [0, 0, 0],\n",
    "    [0, 1, 0],\n",
    "    [1, 0, 0],\n",
    "    [1, 1, 1]\n",
    "]\n",
    "\n",
    "weights = [0.5, 0.2, -0.2]\n",
    "\n",
    "for row in dataset:\n",
    "    prediction = predict(row, weights)\n",
    "    print(f\"Expected={row[-1]}, Predicted={int(prediction)}\")\n"
   ]
  },
  {
   "cell_type": "code",
   "execution_count": 46,
   "id": "89ef8be9-13d9-4886-8993-7be547f5de92",
   "metadata": {},
   "outputs": [
    {
     "name": "stdout",
     "output_type": "stream",
     "text": [
      "Expected=0, Predicted=0\n",
      "Expected=1, Predicted=1\n",
      "Expected=1, Predicted=1\n",
      "Expected=1, Predicted=1\n"
     ]
    }
   ],
   "source": [
    "#for or dataset\n",
    "import math\n",
    "\n",
    "def predict(row, weights):\n",
    "    activation = weights[0]\n",
    "    for i in range(len(row) - 1):\n",
    "        activation += weights[i + 1] * row[i]\n",
    "    activation = math.tanh(activation)  # tanh activation\n",
    "    return 1.0 if activation >= 0.0 else 0.0  # threshold at 0\n",
    "\n",
    "# Test dataset\n",
    "dataset = [\n",
    "    [0, 0, 0],\n",
    "    [0, 1, 1],\n",
    "    [1, 0, 1],\n",
    "    [1, 1, 1]\n",
    "]\n",
    "\n",
    "weights = [-0.1, 1.0, 1.0]  # bias = -0.1, w1 = 1, w2 = 1\n",
    "\n",
    "\n",
    "for row in dataset:\n",
    "    prediction = predict(row, weights)\n",
    "    print(f\"Expected={row[-1]}, Predicted={int(prediction)}\")\n"
   ]
  },
  {
   "cell_type": "code",
   "execution_count": null,
   "id": "0dd9deaa-feb5-4582-86bb-53685199c395",
   "metadata": {},
   "outputs": [],
   "source": []
  }
 ],
 "metadata": {
  "kernelspec": {
   "display_name": "Python 3 (ipykernel)",
   "language": "python",
   "name": "python3"
  },
  "language_info": {
   "codemirror_mode": {
    "name": "ipython",
    "version": 3
   },
   "file_extension": ".py",
   "mimetype": "text/x-python",
   "name": "python",
   "nbconvert_exporter": "python",
   "pygments_lexer": "ipython3",
   "version": "3.12.6"
  }
 },
 "nbformat": 4,
 "nbformat_minor": 5
}
